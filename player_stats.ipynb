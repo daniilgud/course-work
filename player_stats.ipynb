{
  "cells": [
    {
      "cell_type": "code",
      "execution_count": null,
      "id": "bee5dcb0",
      "metadata": {
        "_kg_hide-input": true,
        "execution": {
          "iopub.execute_input": "2023-03-11T08:18:57.272646Z",
          "iopub.status.busy": "2023-03-11T08:18:57.272119Z",
          "iopub.status.idle": "2023-03-11T08:18:59.073570Z",
          "shell.execute_reply": "2023-03-11T08:18:59.072257Z"
        },
        "jupyter": {
          "source_hidden": true
        },
        "papermill": {
          "duration": 1.822156,
          "end_time": "2023-03-11T08:18:59.076630",
          "exception": false,
          "start_time": "2023-03-11T08:18:57.254474",
          "status": "completed"
        },
        "tags": [],
        "id": "bee5dcb0"
      },
      "outputs": [],
      "source": [
        "# imports\n",
        "\n",
        "import numpy as np\n",
        "import pandas as pd\n",
        "import plotly.express as px\n",
        "import plotly.graph_objects as go\n",
        "from plotly.subplots import make_subplots\n",
        "\n",
        "# dataFrames\n",
        "\n",
        "df_passing = pd.read_csv('D:\\курсач\\датасет\\player_passing.csv')\n",
        "df_playestats = pd.read_csv('D:\\курсач\\датасет/player_stats.csv')\n",
        "df_passingtype = pd.read_csv('D:\\курсач\\датасет/player_passing_types.csv')\n",
        "df_possession = pd.read_csv('D:\\курсач\\датасет/player_possession.csv')\n",
        "df_misc = pd.read_csv('D:\\курсач\\датасет/player_misc.csv')\n",
        "df_keeper = pd.read_csv('D:\\курсач\\датасет/player_keepers.csv')\n",
        "df_defence = pd.read_csv('D:\\курсач\\датасет/player_defense.csv')\n",
        "df_kepperadv = pd.read_csv('D:\\курсач\\датасет/player_keepersadv.csv')\n",
        "df_gca = pd.read_csv('D:\\курсач\\датасет/player_gca.csv')\n",
        "df_playingtime = pd.read_csv('D:\\курсач\\датасет/player_playingtime.csv')\n",
        "df_shooting = pd.read_csv('D:\\курсач\\датасет/player_shooting.csv')\n",
        "\n",
        "\n",
        "\n",
        "df_passing['passing_commulative_performance'] = \\\n",
        "    +0.05*df_passing['passes_completed']\\\n",
        "    +1.5*df_passing['assists']\\\n",
        "    +1.5*df_passing['assisted_shots']\\\n",
        "    +0.2*df_passing['passes_into_final_third']\\\n",
        "    +0.4*df_passing['passes_into_penalty_area']\\\n",
        "    +0.3*df_passing['crosses_into_penalty_area']\\\n",
        "    +0.1*df_passing['progressive_passes']\n",
        "\n",
        "df_shooting['shooting_commulative_performance'] =\\\n",
        "    +3*df_shooting['goals']\\\n",
        "    +0.3*df_shooting['shots_on_target']\\\n",
        "    +0.1*df_shooting['shots']\\\n",
        "    +0.2*df_shooting['shots_free_kicks']\\\n",
        "    +df_shooting['pens_made']\n",
        "\n",
        "df_possession['possession_commulative_performance'] =\\\n",
        "    +0.05*df_possession['touches']\\\n",
        "    +0.2*df_possession['touches_att_3rd']\\\n",
        "    +0.5*df_possession['touches_att_pen_area']\\\n",
        "    +1*df_possession['dribbles_completed']\\\n",
        "    +0.1*df_possession['progressive_passes_received']\\\n",
        "    -0.2*df_possession['miscontrols']\\\n",
        "    -0.5*df_possession['dispossessed']\n",
        "\n",
        "df_defence['defence_commulative_performance'] = \\\n",
        "    -0.2*df_defence['dribbled_past']\\\n",
        "    -df_defence['errors']\\\n",
        "    +0.5*df_defence['blocks']\\\n",
        "    +0.75*df_defence['blocked_shots']\\\n",
        "    +0.75*df_defence['blocked_passes']\\\n",
        "    +df_defence['tackles_interceptions']\\\n",
        "    +0.2*df_defence['clearances']\n",
        "\n",
        "df_misc['misc_commulative_performance'] = \\\n",
        "    -0.25*df_misc['cards_yellow']\\\n",
        "    -1*df_misc['cards_red']\\\n",
        "    -0.1*df_misc['fouls']\\\n",
        "    +0.25*df_misc['interceptions']\\\n",
        "    +0.3*df_misc['tackles_won']\\\n",
        "    +1.5*df_misc['pens_won']\\\n",
        "    -1.5*df_misc['pens_conceded']\\\n",
        "    +0.25*df_misc['ball_recoveries']\\\n",
        "    -3*df_misc['own_goals']\\\n",
        "    -0.25*df_misc['aerials_lost']\\\n",
        "    +0.25*df_misc['aerials_won']\n",
        "\n",
        "\n",
        "\n",
        "df0 = df_playestats.loc[:, ['club']]\n",
        "df1 = df_misc.loc[:, ['player', 'position', 'team', 'age', 'misc_commulative_performance']]\n",
        "df2 = df_defence.loc[:, ['defence_commulative_performance']]\n",
        "df3 = df_possession.loc[:, ['possession_commulative_performance']]\n",
        "df4 = df_passing.loc[:, ['passing_commulative_performance']]\n",
        "df5 = df_shooting.loc[:, ['shooting_commulative_performance']]\n",
        "\n",
        "df_total = pd.concat([df0, df1, df2, df3, df4, df5], axis=1)\n",
        "\n",
        "####\n",
        "df_total['total_points'] =\\\n",
        "    +df_total['misc_commulative_performance']\\\n",
        "    +df_total['possession_commulative_performance']\\\n",
        "    +df_total['defence_commulative_performance']\\\n",
        "    +df_total['shooting_commulative_performance']\\\n",
        "    +df_total['passing_commulative_performance']\n",
        "\n",
        "df_total.fillna(0, inplace=True)\n",
        "\n",
        "categories = ['misc_commulative_performance',\n",
        " 'defence_commulative_performance',\n",
        " 'possession_commulative_performance',\n",
        " 'passing_commulative_performance',\n",
        " 'shooting_commulative_performance',\n",
        " 'misc_commulative_performance'\n",
        " ]\n",
        "\n",
        "categories_plot = ['Miscellaneous',\n",
        " 'Defence',\n",
        " 'Possession',\n",
        " 'Passing',\n",
        " 'Shooting',\n",
        " 'Miscellaneous'\n",
        " ]\n",
        "\n",
        "# list of teams\n",
        "\n",
        "teams = ['Argentina','Australia','Belgium','Brazil','Cameroon','Canada','Costa Rica','Croatia',\n",
        "'Denmark','Ecuador','England', 'France','Germany','Ghana','IR Iran','Japan',\n",
        "'Korea Republic','Mexico','Morocco','Netherlands','Poland','Portugal','Qatar','Saudi Arabia',\n",
        "'Senegal','Serbia','Spain','Switzerland','Tunisia','United States','Uruguay','Wales']"
      ]
    },
    {
      "cell_type": "code",
      "execution_count": null,
      "id": "16d0be58",
      "metadata": {
        "_kg_hide-input": true,
        "execution": {
          "iopub.execute_input": "2023-03-11T08:18:59.143828Z",
          "iopub.status.busy": "2023-03-11T08:18:59.143428Z",
          "iopub.status.idle": "2023-03-11T08:19:00.474987Z",
          "shell.execute_reply": "2023-03-11T08:19:00.473662Z"
        },
        "papermill": {
          "duration": 1.351499,
          "end_time": "2023-03-11T08:19:00.477715",
          "exception": false,
          "start_time": "2023-03-11T08:18:59.126216",
          "status": "completed"
        },
        "tags": [],
        "collapsed": true,
        "id": "16d0be58",
        "outputId": "d8665683-1909-45db-e0d1-368f02f887e6"
      },
      "outputs": [
        {
          "data": {
            "text/html": [
              "        <script type=\"text/javascript\">\n",
              "        window.PlotlyConfig = {MathJaxConfig: 'local'};\n",
              "        if (window.MathJax && window.MathJax.Hub && window.MathJax.Hub.Config) {window.MathJax.Hub.Config({SVG: {font: \"STIX-Web\"}});}\n",
              "        if (typeof require !== 'undefined') {\n",
              "        require.undef(\"plotly\");\n",
              "        requirejs.config({\n",
              "            paths: {\n",
              "                'plotly': ['https://cdn.plot.ly/plotly-2.16.1.min']\n",
              "            }\n",
              "        });\n",
              "        require(['plotly'], function(Plotly) {\n",
              "            window._Plotly = Plotly;\n",
              "        });\n",
              "        }\n",
              "        </script>\n",
              "        "
            ]
          },
          "metadata": {},
          "output_type": "display_data"
        },
        {
          "data": {
            "text/html": [
              "<div>                            <div id=\"fde3ae40-4d43-4b0f-b1e0-3ec5fdd4913c\" class=\"plotly-graph-div\" style=\"height:600px; width:900px;\"></div>            <script type=\"text/javascript\">                require([\"plotly\"], function(Plotly) {                    window.PLOTLYENV=window.PLOTLYENV || {};                                    if (document.getElementById(\"fde3ae40-4d43-4b0f-b1e0-3ec5fdd4913c\")) {                    Plotly.newPlot(                        \"fde3ae40-4d43-4b0f-b1e0-3ec5fdd4913c\",                        [{\"alignmentgroup\":\"True\",\"hovertemplate\":\"team=Argentina<br>player=%{x}<br>total_points=%{y}<extra></extra>\",\"legendgroup\":\"Argentina\",\"marker\":{\"color\":\"#636efa\",\"pattern\":{\"shape\":\"\"}},\"name\":\"Argentina\",\"offsetgroup\":\"Argentina\",\"orientation\":\"v\",\"showlegend\":true,\"textposition\":\"auto\",\"x\":[\"Lionel Messi\",\"Rodrigo De Paul\",\"Enzo Fernández\",\"Alexis Mac Allister\"],\"xaxis\":\"x\",\"y\":[208.95000000000002,158.45,139.65000000000003,125.35000000000001],\"yaxis\":\"y\",\"type\":\"bar\"},{\"alignmentgroup\":\"True\",\"hovertemplate\":\"team=France<br>player=%{x}<br>total_points=%{y}<extra></extra>\",\"legendgroup\":\"France\",\"marker\":{\"color\":\"#EF553B\",\"pattern\":{\"shape\":\"\"}},\"name\":\"France\",\"offsetgroup\":\"France\",\"orientation\":\"v\",\"showlegend\":true,\"textposition\":\"auto\",\"x\":[\"Kylian Mbappé\",\"Antoine Griezmann\",\"Aurélien Tchouaméni\",\"Theo Hernández\",\"Adrien Rabiot\"],\"xaxis\":\"x\",\"y\":[186.05,164.35,135.40000000000003,128.2,124.79999999999998],\"yaxis\":\"y\",\"type\":\"bar\"},{\"alignmentgroup\":\"True\",\"hovertemplate\":\"team=Croatia<br>player=%{x}<br>total_points=%{y}<extra></extra>\",\"legendgroup\":\"Croatia\",\"marker\":{\"color\":\"#00cc96\",\"pattern\":{\"shape\":\"\"}},\"name\":\"Croatia\",\"offsetgroup\":\"Croatia\",\"orientation\":\"v\",\"showlegend\":true,\"textposition\":\"auto\",\"x\":[\"Luka Modrić\",\"Mateo Kovačić\",\"Ivan Perišić\",\"Marcelo Brozović\"],\"xaxis\":\"x\",\"y\":[168.05,160.7,154.10000000000002,133.85],\"yaxis\":\"y\",\"type\":\"bar\"},{\"alignmentgroup\":\"True\",\"hovertemplate\":\"team=Morocco<br>player=%{x}<br>total_points=%{y}<extra></extra>\",\"legendgroup\":\"Morocco\",\"marker\":{\"color\":\"#ab63fa\",\"pattern\":{\"shape\":\"\"}},\"name\":\"Morocco\",\"offsetgroup\":\"Morocco\",\"orientation\":\"v\",\"showlegend\":true,\"textposition\":\"auto\",\"x\":[\"Achraf Hakimi\",\"Hakim Ziyech\"],\"xaxis\":\"x\",\"y\":[145.65,131.85000000000002],\"yaxis\":\"y\",\"type\":\"bar\"}],                        {\"template\":{\"data\":{\"barpolar\":[{\"marker\":{\"line\":{\"color\":\"white\",\"width\":0.5},\"pattern\":{\"fillmode\":\"overlay\",\"size\":10,\"solidity\":0.2}},\"type\":\"barpolar\"}],\"bar\":[{\"error_x\":{\"color\":\"rgb(36,36,36)\"},\"error_y\":{\"color\":\"rgb(36,36,36)\"},\"marker\":{\"line\":{\"color\":\"white\",\"width\":0.5},\"pattern\":{\"fillmode\":\"overlay\",\"size\":10,\"solidity\":0.2}},\"type\":\"bar\"}],\"carpet\":[{\"aaxis\":{\"endlinecolor\":\"rgb(36,36,36)\",\"gridcolor\":\"white\",\"linecolor\":\"white\",\"minorgridcolor\":\"white\",\"startlinecolor\":\"rgb(36,36,36)\"},\"baxis\":{\"endlinecolor\":\"rgb(36,36,36)\",\"gridcolor\":\"white\",\"linecolor\":\"white\",\"minorgridcolor\":\"white\",\"startlinecolor\":\"rgb(36,36,36)\"},\"type\":\"carpet\"}],\"choropleth\":[{\"colorbar\":{\"outlinewidth\":1,\"tickcolor\":\"rgb(36,36,36)\",\"ticks\":\"outside\"},\"type\":\"choropleth\"}],\"contourcarpet\":[{\"colorbar\":{\"outlinewidth\":1,\"tickcolor\":\"rgb(36,36,36)\",\"ticks\":\"outside\"},\"type\":\"contourcarpet\"}],\"contour\":[{\"colorbar\":{\"outlinewidth\":1,\"tickcolor\":\"rgb(36,36,36)\",\"ticks\":\"outside\"},\"colorscale\":[[0.0,\"#440154\"],[0.1111111111111111,\"#482878\"],[0.2222222222222222,\"#3e4989\"],[0.3333333333333333,\"#31688e\"],[0.4444444444444444,\"#26828e\"],[0.5555555555555556,\"#1f9e89\"],[0.6666666666666666,\"#35b779\"],[0.7777777777777778,\"#6ece58\"],[0.8888888888888888,\"#b5de2b\"],[1.0,\"#fde725\"]],\"type\":\"contour\"}],\"heatmapgl\":[{\"colorbar\":{\"outlinewidth\":1,\"tickcolor\":\"rgb(36,36,36)\",\"ticks\":\"outside\"},\"colorscale\":[[0.0,\"#440154\"],[0.1111111111111111,\"#482878\"],[0.2222222222222222,\"#3e4989\"],[0.3333333333333333,\"#31688e\"],[0.4444444444444444,\"#26828e\"],[0.5555555555555556,\"#1f9e89\"],[0.6666666666666666,\"#35b779\"],[0.7777777777777778,\"#6ece58\"],[0.8888888888888888,\"#b5de2b\"],[1.0,\"#fde725\"]],\"type\":\"heatmapgl\"}],\"heatmap\":[{\"colorbar\":{\"outlinewidth\":1,\"tickcolor\":\"rgb(36,36,36)\",\"ticks\":\"outside\"},\"colorscale\":[[0.0,\"#440154\"],[0.1111111111111111,\"#482878\"],[0.2222222222222222,\"#3e4989\"],[0.3333333333333333,\"#31688e\"],[0.4444444444444444,\"#26828e\"],[0.5555555555555556,\"#1f9e89\"],[0.6666666666666666,\"#35b779\"],[0.7777777777777778,\"#6ece58\"],[0.8888888888888888,\"#b5de2b\"],[1.0,\"#fde725\"]],\"type\":\"heatmap\"}],\"histogram2dcontour\":[{\"colorbar\":{\"outlinewidth\":1,\"tickcolor\":\"rgb(36,36,36)\",\"ticks\":\"outside\"},\"colorscale\":[[0.0,\"#440154\"],[0.1111111111111111,\"#482878\"],[0.2222222222222222,\"#3e4989\"],[0.3333333333333333,\"#31688e\"],[0.4444444444444444,\"#26828e\"],[0.5555555555555556,\"#1f9e89\"],[0.6666666666666666,\"#35b779\"],[0.7777777777777778,\"#6ece58\"],[0.8888888888888888,\"#b5de2b\"],[1.0,\"#fde725\"]],\"type\":\"histogram2dcontour\"}],\"histogram2d\":[{\"colorbar\":{\"outlinewidth\":1,\"tickcolor\":\"rgb(36,36,36)\",\"ticks\":\"outside\"},\"colorscale\":[[0.0,\"#440154\"],[0.1111111111111111,\"#482878\"],[0.2222222222222222,\"#3e4989\"],[0.3333333333333333,\"#31688e\"],[0.4444444444444444,\"#26828e\"],[0.5555555555555556,\"#1f9e89\"],[0.6666666666666666,\"#35b779\"],[0.7777777777777778,\"#6ece58\"],[0.8888888888888888,\"#b5de2b\"],[1.0,\"#fde725\"]],\"type\":\"histogram2d\"}],\"histogram\":[{\"marker\":{\"line\":{\"color\":\"white\",\"width\":0.6}},\"type\":\"histogram\"}],\"mesh3d\":[{\"colorbar\":{\"outlinewidth\":1,\"tickcolor\":\"rgb(36,36,36)\",\"ticks\":\"outside\"},\"type\":\"mesh3d\"}],\"parcoords\":[{\"line\":{\"colorbar\":{\"outlinewidth\":1,\"tickcolor\":\"rgb(36,36,36)\",\"ticks\":\"outside\"}},\"type\":\"parcoords\"}],\"pie\":[{\"automargin\":true,\"type\":\"pie\"}],\"scatter3d\":[{\"line\":{\"colorbar\":{\"outlinewidth\":1,\"tickcolor\":\"rgb(36,36,36)\",\"ticks\":\"outside\"}},\"marker\":{\"colorbar\":{\"outlinewidth\":1,\"tickcolor\":\"rgb(36,36,36)\",\"ticks\":\"outside\"}},\"type\":\"scatter3d\"}],\"scattercarpet\":[{\"marker\":{\"colorbar\":{\"outlinewidth\":1,\"tickcolor\":\"rgb(36,36,36)\",\"ticks\":\"outside\"}},\"type\":\"scattercarpet\"}],\"scattergeo\":[{\"marker\":{\"colorbar\":{\"outlinewidth\":1,\"tickcolor\":\"rgb(36,36,36)\",\"ticks\":\"outside\"}},\"type\":\"scattergeo\"}],\"scattergl\":[{\"marker\":{\"colorbar\":{\"outlinewidth\":1,\"tickcolor\":\"rgb(36,36,36)\",\"ticks\":\"outside\"}},\"type\":\"scattergl\"}],\"scattermapbox\":[{\"marker\":{\"colorbar\":{\"outlinewidth\":1,\"tickcolor\":\"rgb(36,36,36)\",\"ticks\":\"outside\"}},\"type\":\"scattermapbox\"}],\"scatterpolargl\":[{\"marker\":{\"colorbar\":{\"outlinewidth\":1,\"tickcolor\":\"rgb(36,36,36)\",\"ticks\":\"outside\"}},\"type\":\"scatterpolargl\"}],\"scatterpolar\":[{\"marker\":{\"colorbar\":{\"outlinewidth\":1,\"tickcolor\":\"rgb(36,36,36)\",\"ticks\":\"outside\"}},\"type\":\"scatterpolar\"}],\"scatter\":[{\"fillpattern\":{\"fillmode\":\"overlay\",\"size\":10,\"solidity\":0.2},\"type\":\"scatter\"}],\"scatterternary\":[{\"marker\":{\"colorbar\":{\"outlinewidth\":1,\"tickcolor\":\"rgb(36,36,36)\",\"ticks\":\"outside\"}},\"type\":\"scatterternary\"}],\"surface\":[{\"colorbar\":{\"outlinewidth\":1,\"tickcolor\":\"rgb(36,36,36)\",\"ticks\":\"outside\"},\"colorscale\":[[0.0,\"#440154\"],[0.1111111111111111,\"#482878\"],[0.2222222222222222,\"#3e4989\"],[0.3333333333333333,\"#31688e\"],[0.4444444444444444,\"#26828e\"],[0.5555555555555556,\"#1f9e89\"],[0.6666666666666666,\"#35b779\"],[0.7777777777777778,\"#6ece58\"],[0.8888888888888888,\"#b5de2b\"],[1.0,\"#fde725\"]],\"type\":\"surface\"}],\"table\":[{\"cells\":{\"fill\":{\"color\":\"rgb(237,237,237)\"},\"line\":{\"color\":\"white\"}},\"header\":{\"fill\":{\"color\":\"rgb(217,217,217)\"},\"line\":{\"color\":\"white\"}},\"type\":\"table\"}]},\"layout\":{\"annotationdefaults\":{\"arrowhead\":0,\"arrowwidth\":1},\"autotypenumbers\":\"strict\",\"coloraxis\":{\"colorbar\":{\"outlinewidth\":1,\"tickcolor\":\"rgb(36,36,36)\",\"ticks\":\"outside\"}},\"colorscale\":{\"diverging\":[[0.0,\"rgb(103,0,31)\"],[0.1,\"rgb(178,24,43)\"],[0.2,\"rgb(214,96,77)\"],[0.3,\"rgb(244,165,130)\"],[0.4,\"rgb(253,219,199)\"],[0.5,\"rgb(247,247,247)\"],[0.6,\"rgb(209,229,240)\"],[0.7,\"rgb(146,197,222)\"],[0.8,\"rgb(67,147,195)\"],[0.9,\"rgb(33,102,172)\"],[1.0,\"rgb(5,48,97)\"]],\"sequential\":[[0.0,\"#440154\"],[0.1111111111111111,\"#482878\"],[0.2222222222222222,\"#3e4989\"],[0.3333333333333333,\"#31688e\"],[0.4444444444444444,\"#26828e\"],[0.5555555555555556,\"#1f9e89\"],[0.6666666666666666,\"#35b779\"],[0.7777777777777778,\"#6ece58\"],[0.8888888888888888,\"#b5de2b\"],[1.0,\"#fde725\"]],\"sequentialminus\":[[0.0,\"#440154\"],[0.1111111111111111,\"#482878\"],[0.2222222222222222,\"#3e4989\"],[0.3333333333333333,\"#31688e\"],[0.4444444444444444,\"#26828e\"],[0.5555555555555556,\"#1f9e89\"],[0.6666666666666666,\"#35b779\"],[0.7777777777777778,\"#6ece58\"],[0.8888888888888888,\"#b5de2b\"],[1.0,\"#fde725\"]]},\"colorway\":[\"#1F77B4\",\"#FF7F0E\",\"#2CA02C\",\"#D62728\",\"#9467BD\",\"#8C564B\",\"#E377C2\",\"#7F7F7F\",\"#BCBD22\",\"#17BECF\"],\"font\":{\"color\":\"rgb(36,36,36)\"},\"geo\":{\"bgcolor\":\"white\",\"lakecolor\":\"white\",\"landcolor\":\"white\",\"showlakes\":true,\"showland\":true,\"subunitcolor\":\"white\"},\"hoverlabel\":{\"align\":\"left\"},\"hovermode\":\"closest\",\"mapbox\":{\"style\":\"light\"},\"paper_bgcolor\":\"white\",\"plot_bgcolor\":\"white\",\"polar\":{\"angularaxis\":{\"gridcolor\":\"rgb(232,232,232)\",\"linecolor\":\"rgb(36,36,36)\",\"showgrid\":false,\"showline\":true,\"ticks\":\"outside\"},\"bgcolor\":\"white\",\"radialaxis\":{\"gridcolor\":\"rgb(232,232,232)\",\"linecolor\":\"rgb(36,36,36)\",\"showgrid\":false,\"showline\":true,\"ticks\":\"outside\"}},\"scene\":{\"xaxis\":{\"backgroundcolor\":\"white\",\"gridcolor\":\"rgb(232,232,232)\",\"gridwidth\":2,\"linecolor\":\"rgb(36,36,36)\",\"showbackground\":true,\"showgrid\":false,\"showline\":true,\"ticks\":\"outside\",\"zeroline\":false,\"zerolinecolor\":\"rgb(36,36,36)\"},\"yaxis\":{\"backgroundcolor\":\"white\",\"gridcolor\":\"rgb(232,232,232)\",\"gridwidth\":2,\"linecolor\":\"rgb(36,36,36)\",\"showbackground\":true,\"showgrid\":false,\"showline\":true,\"ticks\":\"outside\",\"zeroline\":false,\"zerolinecolor\":\"rgb(36,36,36)\"},\"zaxis\":{\"backgroundcolor\":\"white\",\"gridcolor\":\"rgb(232,232,232)\",\"gridwidth\":2,\"linecolor\":\"rgb(36,36,36)\",\"showbackground\":true,\"showgrid\":false,\"showline\":true,\"ticks\":\"outside\",\"zeroline\":false,\"zerolinecolor\":\"rgb(36,36,36)\"}},\"shapedefaults\":{\"fillcolor\":\"black\",\"line\":{\"width\":0},\"opacity\":0.3},\"ternary\":{\"aaxis\":{\"gridcolor\":\"rgb(232,232,232)\",\"linecolor\":\"rgb(36,36,36)\",\"showgrid\":false,\"showline\":true,\"ticks\":\"outside\"},\"baxis\":{\"gridcolor\":\"rgb(232,232,232)\",\"linecolor\":\"rgb(36,36,36)\",\"showgrid\":false,\"showline\":true,\"ticks\":\"outside\"},\"bgcolor\":\"white\",\"caxis\":{\"gridcolor\":\"rgb(232,232,232)\",\"linecolor\":\"rgb(36,36,36)\",\"showgrid\":false,\"showline\":true,\"ticks\":\"outside\"}},\"title\":{\"x\":0.05},\"xaxis\":{\"automargin\":true,\"gridcolor\":\"rgb(232,232,232)\",\"linecolor\":\"rgb(36,36,36)\",\"showgrid\":false,\"showline\":true,\"ticks\":\"outside\",\"title\":{\"standoff\":15},\"zeroline\":false,\"zerolinecolor\":\"rgb(36,36,36)\"},\"yaxis\":{\"automargin\":true,\"gridcolor\":\"rgb(232,232,232)\",\"linecolor\":\"rgb(36,36,36)\",\"showgrid\":false,\"showline\":true,\"ticks\":\"outside\",\"title\":{\"standoff\":15},\"zeroline\":false,\"zerolinecolor\":\"rgb(36,36,36)\"}}},\"xaxis\":{\"anchor\":\"y\",\"domain\":[0.0,1.0],\"title\":{\"text\":\"player\"}},\"yaxis\":{\"anchor\":\"x\",\"domain\":[0.0,1.0],\"title\":{\"text\":\"total_points\"}},\"legend\":{\"title\":{\"text\":\"team\"},\"tracegroupgap\":0},\"margin\":{\"t\":60},\"barmode\":\"relative\",\"height\":600,\"width\":900,\"title\":{\"text\":\"<b> Players Ranking Based on Total Points (Top 15 Players)<b>\",\"font\":{\"size\":24,\"family\":\"San-serif\"}}},                        {\"responsive\": true}                    ).then(function(){\n",
              "                            \n",
              "var gd = document.getElementById('fde3ae40-4d43-4b0f-b1e0-3ec5fdd4913c');\n",
              "var x = new MutationObserver(function (mutations, observer) {{\n",
              "        var display = window.getComputedStyle(gd).display;\n",
              "        if (!display || display === 'none') {{\n",
              "            console.log([gd, 'removed!']);\n",
              "            Plotly.purge(gd);\n",
              "            observer.disconnect();\n",
              "        }}\n",
              "}});\n",
              "\n",
              "// Listen for the removal of the full notebook cells\n",
              "var notebookContainer = gd.closest('#notebook-container');\n",
              "if (notebookContainer) {{\n",
              "    x.observe(notebookContainer, {childList: true});\n",
              "}}\n",
              "\n",
              "// Listen for the clearing of the current output cell\n",
              "var outputEl = gd.closest('.output');\n",
              "if (outputEl) {{\n",
              "    x.observe(outputEl, {childList: true});\n",
              "}}\n",
              "\n",
              "                        })                };                });            </script>        </div>"
            ]
          },
          "metadata": {},
          "output_type": "display_data"
        }
      ],
      "source": [
        "fig = px.bar(df_total.sort_values('total_points', ascending = False).head(15),\n",
        "             x=\"player\", y=\"total_points\",\n",
        "             color='team',\n",
        "             width=900,\n",
        "             height=600,\n",
        "             )\n",
        "fig.update_layout(\n",
        "             template='simple_white',\n",
        "             title=\"<b> Players Ranking Based on Total Points (Top 15 Players)<b>\",\n",
        "             titlefont={'size':24, 'family': 'San-serif'},\n",
        ")\n",
        "\n",
        "fig.show()"
      ]
    },
    {
      "cell_type": "markdown",
      "id": "4933978c",
      "metadata": {
        "papermill": {
          "duration": 0.016594,
          "end_time": "2023-03-11T08:19:00.511559",
          "exception": false,
          "start_time": "2023-03-11T08:19:00.494965",
          "status": "completed"
        },
        "tags": [],
        "id": "4933978c"
      },
      "source": [
        "<!-- df_total.sort_values('total_points', ascending = False).head(25)['player']\n",
        "\n",
        "| This notebook top 25|ESPN|\n",
        "|----|----|\n",
        "|Lionel Messi|1|\n",
        "|Kylian Mbappé|2|\n",
        "|Luka Modrić||\n",
        "|Antoine Griezmann|4|\n",
        "|Mateo Kovačić||\n",
        "|Rodrigo De Paul|12|\n",
        "|Ivan Perišić||\n",
        "|Achraf Hakimi|15|\n",
        "|Enzo Fernández||\n",
        "|Aurélien Tchouaméni||\n",
        "|Marcelo Brozović||\n",
        "|Hakim Ziyech|5|\n",
        "|Theo Hernández||\n",
        "|Alexis Mac Allister|18|\n",
        "|Adrien Rabiot|23|\n",
        "|Joško Gvardiol||\n",
        "|Rodri||\n",
        "|Josip Juranović||\n",
        "|Jude Bellingham|20|\n",
        "|Pedri||\n",
        "|Nicolás Otamendi||\n",
        "|Ousmane Dembélé|16|\n",
        "|Frenkie de Jong||\n",
        "|Bruno Fernandes|7|\n",
        "|Luke Shaw||\n",
        "\n",
        "# EBC Sport ranking\n",
        "1. Lionel Messi (Argentina) – Up 1\n",
        "2. Kylian Mbappe (France) – Down 1\n",
        "3. Sofyan Amrabat (Morocco) – New entry\n",
        "4. Antoine Griezmann (France) – Up 2\n",
        "5. Hakim Ziyech (Morocco) – Up 9\n",
        "6. Harry Kane (England) – Up 2\n",
        "7. Bruno Fernandes (Portugal) – Down 3\n",
        "8. Olivier Giroud (France) – Up 2\n",
        "9. Bukayo Saka (England) – New entry\n",
        "10. Yassine Bounou (Morocco) – New entry\n",
        "11. Casemiro (Brazil) – Down 8\n",
        "12. Rodrigo de Paul (Argentina) – Up 3\n",
        "13. Wojciech Szczesny (Poland) – Down 8\n",
        "14. Dominik Livakovic (Croatia) – New entry\n",
        "15. Achraf Hakimi (Morocco) – Up 9\n",
        "16. Ousmane Dembele (France) – New entry\n",
        "17. Cody Gakpo (Netherlands) – Down 6\n",
        "18. Alexis Mac Allister (Argentina) – New entry\n",
        "19. Richarlison (Brazil) – Down 1\n",
        "20. Jude Bellingham (England) – New entry\n",
        "21. Memphis Depay (Netherlands) – Down 8\n",
        "22. Harry Maguire (England) – Even\n",
        "23. Adrien Rabiot (France) – New entry\n",
        "24. Azzedine Ounahi (Morocco) – New entry\n",
        "25. Vinicius Junior (Brazil) – Down 4 -->"
      ]
    },
    {
      "cell_type": "code",
      "execution_count": null,
      "id": "40e91eef",
      "metadata": {
        "_kg_hide-input": true,
        "execution": {
          "iopub.execute_input": "2023-03-11T08:19:00.545352Z",
          "iopub.status.busy": "2023-03-11T08:19:00.544930Z",
          "iopub.status.idle": "2023-03-11T08:19:00.574998Z",
          "shell.execute_reply": "2023-03-11T08:19:00.573859Z"
        },
        "papermill": {
          "duration": 0.049855,
          "end_time": "2023-03-11T08:19:00.577435",
          "exception": false,
          "start_time": "2023-03-11T08:19:00.527580",
          "status": "completed"
        },
        "tags": [],
        "id": "40e91eef"
      },
      "outputs": [],
      "source": [
        "def team_toppers(team, star_player=None):\n",
        "\n",
        "\n",
        "    df = df_total[df_total['team']== team]\n",
        "\n",
        "\n",
        "    star_player = (df.loc[df['total_points'] == df['total_points'].max()]['player']).to_string(index=False)\n",
        "    player_age = (df.loc[df['total_points'] == df['total_points'].max()]['age']).to_string(index=False)\n",
        "    position = (df.loc[df['total_points'] == df['total_points'].max()]['position']).to_string(index=False)\n",
        "    club = (df.loc[df['total_points'] == df['total_points'].max()]['club']).to_string(index=False)\n",
        "    total_pts = np.round(df['total_points'].max(),2)\n",
        "\n",
        "\n",
        "    fig = go.Figure()\n",
        "\n",
        "    annotations = []\n",
        "    annotations.append(dict(xref='paper', yref='paper',\n",
        "                            x=0.1, y=.95,\n",
        "                            text='<b>Name       : </b>' + str(star_player),\n",
        "                            font=dict(family='Arial', size=16, color='#161616'),\n",
        "                            showarrow=False))\n",
        "    annotations.append(dict(xref='paper', yref='paper',\n",
        "                            x=0.1, y=0.7,\n",
        "                            text='<b>Position   : </b>'+str(position),\n",
        "                            font=dict(family='Arial', size=16, color='#161616'),\n",
        "                            showarrow=False))\n",
        "    annotations.append(dict(xref='paper', yref='paper',\n",
        "                            x=0.1, y=0.4,\n",
        "                            text='<b>Age          : </b>'+str(player_age),\n",
        "                            font=dict(family='Arial', size=16, color='#161616'),\n",
        "                            showarrow=False))\n",
        "    annotations.append(dict(xref='paper', yref='paper',\n",
        "                            x=0.1, y=0.1,\n",
        "                            text='<b>Club         : </b>' + str(club),\n",
        "                            font=dict(family='Arial', size=16, color='#161616'),\n",
        "                            showarrow=False))\n",
        "\n",
        "    annotations.append(dict(xref='paper', yref='paper',\n",
        "                            x=-0.1, y=-0.4,\n",
        "                            text='Note: Age is given in the format [year-days]:',\n",
        "                            font=dict(family='Arial', size=14, color='#161616'),\n",
        "                            showarrow=False))\n",
        "\n",
        "    annotations.append(dict(xref='paper', yref='paper',\n",
        "                            x=0.85, y=0.95,\n",
        "                            text='<b> Total Points <b>',\n",
        "                            font=dict(family='Arial', size=14, color='#161616'),\n",
        "                            showarrow=False))\n",
        "    annotations.append(dict(xref='paper', yref='paper',\n",
        "                            x=0.85, y=0.7,\n",
        "                            text=total_pts,\n",
        "                            font=dict(family='Arial', size=30, color='#161616'),\n",
        "                            showarrow=False))\n",
        "\n",
        "    fig.update_layout(title= '<b>Star Player Info: <b>' + str(team),\n",
        "                      titlefont={'size': 24},\n",
        "                      font_family = 'San Serif',\n",
        "                      width=650,height=300,\n",
        "                      template=\"simple_white\",\n",
        "                      showlegend=True,\n",
        "                      paper_bgcolor=\"#9bc2cf\",\n",
        "                      plot_bgcolor=\"#add8e6\",\n",
        "\n",
        "                      font=dict(\n",
        "                          color ='black',\n",
        "                          ),\n",
        "                      legend=dict(\n",
        "                          orientation=\"v\",\n",
        "                          y=1,\n",
        "                          yanchor=\"bottom\",\n",
        "                          x=1.0,\n",
        "                          xanchor=\"right\",)\n",
        "     )\n",
        "    fig.update_layout(annotations=annotations)\n",
        "    fig.update_xaxes(visible=False)\n",
        "    fig.update_yaxes(visible=False)\n",
        "    fig.show()\n",
        "\n",
        "    print('')\n",
        "    print('')\n",
        "\n",
        "\n",
        "    fig = px.bar(df.sort_values('total_points', ascending = True),\n",
        "                 y=\"player\", x=\"total_points\",color=None,\n",
        "                 width=750,\n",
        "                 height=600,\n",
        "                 )\n",
        "    fig.update_layout(\n",
        "                 template='simple_white',\n",
        "                 title= \"<b> Players Ranking Based on Total Points: Team <b>\" + str(team),\n",
        "                 titlefont={'size':24, 'family': 'San Serif'},\n",
        "    )\n",
        "    fig.update_traces(marker_color='#add8e6', marker_line_color='#9bc2cf',\n",
        "                  marker_line_width=2.5, opacity=None)\n",
        "\n",
        "    fig.show()\n",
        "\n",
        "    print('')\n",
        "    print('')\n",
        "\n",
        "\n",
        "    player_color = {\n",
        "        str(star_player): 'lightsalmon',\n",
        "    }\n",
        "\n",
        "    fig = go.Figure()\n",
        "\n",
        "    for player in df['player']:\n",
        "        df_ = df[df['player']== player].loc[:, categories]\n",
        "        df_ = pd.concat([df_, df_['misc_commulative_performance']], axis=1)\n",
        "        color = player_color.get(player, 'lightslategrey')\n",
        "        highlight = color != 'lightslategrey'\n",
        "\n",
        "        fig.add_trace(go.Scatterpolar(\n",
        "            r=np.array(df_)[0],\n",
        "            theta=categories_plot,\n",
        "            name=player,\n",
        "            fill='none',\n",
        "            hoverinfo='name+r',\n",
        "            mode='lines',\n",
        "            line_color=color,\n",
        "            line_shape='spline',\n",
        "            line_smoothing=0.8,\n",
        "            line_width=1.6 if highlight else 0.6,\n",
        "            showlegend=highlight,\n",
        "            )\n",
        "                      )\n",
        "\n",
        "\n",
        "    title = \"<b> Total Points Breakdown (5 KPI's): Team <b>\" +str(team)\n",
        "\n",
        "    fig.update_layout(\n",
        "        title_text = title,\n",
        "        font_family = 'San Serif',\n",
        "        title_font_color = '#000333',\n",
        "        title_font_size = 24,\n",
        "        polar_bgcolor='white',\n",
        "        polar_radialaxis_visible=True,\n",
        "        polar_radialaxis_showticklabels=True,\n",
        "        polar_radialaxis_tickfont_color='darkgrey',\n",
        "        polar_angularaxis_color='grey',\n",
        "        polar_angularaxis_showline=True,\n",
        "        polar_radialaxis_showline=True,\n",
        "        polar_radialaxis_gridcolor='#F2F2F2',\n",
        "        polar_radialaxis_tickmode='array',\n",
        "        width=650,\n",
        "        height=500,\n",
        "    )\n",
        "    fig.show()"
      ]
    },
    {
      "cell_type": "code",
      "execution_count": null,
      "id": "ef565d4b",
      "metadata": {
        "execution": {
          "iopub.execute_input": "2023-03-11T08:19:00.643074Z",
          "iopub.status.busy": "2023-03-11T08:19:00.642661Z",
          "iopub.status.idle": "2023-03-11T08:19:00.972179Z",
          "shell.execute_reply": "2023-03-11T08:19:00.970617Z"
        },
        "papermill": {
          "duration": 0.349476,
          "end_time": "2023-03-11T08:19:00.974714",
          "exception": false,
          "start_time": "2023-03-11T08:19:00.625238",
          "status": "completed"
        },
        "tags": [],
        "id": "ef565d4b"
      },
      "outputs": [],
      "source": [
        "team_toppers(team = 'Argentina')"
      ]
    },
    {
      "cell_type": "markdown",
      "id": "374db2fe",
      "metadata": {
        "papermill": {
          "duration": 0.016875,
          "end_time": "2023-03-11T08:19:01.009274",
          "exception": false,
          "start_time": "2023-03-11T08:19:00.992399",
          "status": "completed"
        },
        "tags": [],
        "id": "374db2fe"
      },
      "source": [
        "### Team Australia <a class=\"anchor\" id=\"2.2\"></a>\n",
        "\n",
        "<a href=\"#top\">Back to top</a>  "
      ]
    },
    {
      "cell_type": "code",
      "execution_count": null,
      "id": "5206a640",
      "metadata": {
        "execution": {
          "iopub.execute_input": "2023-03-11T08:19:01.046405Z",
          "iopub.status.busy": "2023-03-11T08:19:01.045890Z",
          "iopub.status.idle": "2023-03-11T08:19:01.316019Z",
          "shell.execute_reply": "2023-03-11T08:19:01.314798Z"
        },
        "papermill": {
          "duration": 0.291655,
          "end_time": "2023-03-11T08:19:01.318753",
          "exception": false,
          "start_time": "2023-03-11T08:19:01.027098",
          "status": "completed"
        },
        "tags": [],
        "id": "5206a640"
      },
      "outputs": [],
      "source": [
        "team_toppers(team = 'France')"
      ]
    },
    {
      "cell_type": "markdown",
      "id": "55f79330",
      "metadata": {
        "papermill": {
          "duration": 0.01817,
          "end_time": "2023-03-11T08:19:01.355720",
          "exception": false,
          "start_time": "2023-03-11T08:19:01.337550",
          "status": "completed"
        },
        "tags": [],
        "id": "55f79330"
      },
      "source": [
        "### Team Belguim <a class=\"anchor\" id=\"2.3\"></a>\n"
      ]
    },
    {
      "cell_type": "code",
      "execution_count": null,
      "id": "92337b17",
      "metadata": {
        "execution": {
          "iopub.execute_input": "2023-03-11T08:19:01.395474Z",
          "iopub.status.busy": "2023-03-11T08:19:01.395015Z",
          "iopub.status.idle": "2023-03-11T08:19:01.643143Z",
          "shell.execute_reply": "2023-03-11T08:19:01.641709Z"
        },
        "papermill": {
          "duration": 0.271803,
          "end_time": "2023-03-11T08:19:01.645928",
          "exception": false,
          "start_time": "2023-03-11T08:19:01.374125",
          "status": "completed"
        },
        "tags": [],
        "id": "92337b17"
      },
      "outputs": [],
      "source": [
        "team_toppers(team = 'Belgium')"
      ]
    },
    {
      "cell_type": "markdown",
      "id": "34b70b09",
      "metadata": {
        "papermill": {
          "duration": 0.018673,
          "end_time": "2023-03-11T08:19:01.684568",
          "exception": false,
          "start_time": "2023-03-11T08:19:01.665895",
          "status": "completed"
        },
        "tags": [],
        "id": "34b70b09"
      },
      "source": [
        "### Team Brazil <a class=\"anchor\" id=\"2.4\"></a>\n"
      ]
    },
    {
      "cell_type": "code",
      "execution_count": null,
      "id": "bf2efc34",
      "metadata": {
        "execution": {
          "iopub.execute_input": "2023-03-11T08:19:01.724893Z",
          "iopub.status.busy": "2023-03-11T08:19:01.723998Z",
          "iopub.status.idle": "2023-03-11T08:19:02.001872Z",
          "shell.execute_reply": "2023-03-11T08:19:02.000068Z"
        },
        "papermill": {
          "duration": 0.30098,
          "end_time": "2023-03-11T08:19:02.004636",
          "exception": false,
          "start_time": "2023-03-11T08:19:01.703656",
          "status": "completed"
        },
        "tags": [],
        "id": "bf2efc34"
      },
      "outputs": [],
      "source": [
        "team_toppers(team = 'Brazil')"
      ]
    },
    {
      "cell_type": "markdown",
      "id": "15361550",
      "metadata": {
        "papermill": {
          "duration": 0.020505,
          "end_time": "2023-03-11T08:19:02.046201",
          "exception": false,
          "start_time": "2023-03-11T08:19:02.025696",
          "status": "completed"
        },
        "tags": [],
        "id": "15361550"
      },
      "source": [
        "### Team Cameroon <a class=\"anchor\" id=\"2.5\"></a>\n"
      ]
    },
    {
      "cell_type": "code",
      "execution_count": null,
      "id": "28b5194b",
      "metadata": {
        "execution": {
          "iopub.execute_input": "2023-03-11T08:19:02.088742Z",
          "iopub.status.busy": "2023-03-11T08:19:02.088296Z",
          "iopub.status.idle": "2023-03-11T08:19:02.348308Z",
          "shell.execute_reply": "2023-03-11T08:19:02.347115Z"
        },
        "papermill": {
          "duration": 0.284526,
          "end_time": "2023-03-11T08:19:02.351061",
          "exception": false,
          "start_time": "2023-03-11T08:19:02.066535",
          "status": "completed"
        },
        "tags": [],
        "id": "28b5194b"
      },
      "outputs": [],
      "source": [
        "team_toppers(team = 'Cameroon')"
      ]
    },
    {
      "cell_type": "markdown",
      "id": "99ed0162",
      "metadata": {
        "papermill": {
          "duration": 0.021873,
          "end_time": "2023-03-11T08:19:02.395057",
          "exception": false,
          "start_time": "2023-03-11T08:19:02.373184",
          "status": "completed"
        },
        "tags": [],
        "id": "99ed0162"
      },
      "source": [
        "### Team Canada <a class=\"anchor\" id=\"2.6\"></a>\n",
        "<a href=\"#top\">Back to top</a>  "
      ]
    },
    {
      "cell_type": "code",
      "execution_count": null,
      "id": "3cc8f2bf",
      "metadata": {
        "execution": {
          "iopub.execute_input": "2023-03-11T08:19:02.441264Z",
          "iopub.status.busy": "2023-03-11T08:19:02.440861Z",
          "iopub.status.idle": "2023-03-11T08:19:02.688193Z",
          "shell.execute_reply": "2023-03-11T08:19:02.686745Z"
        },
        "papermill": {
          "duration": 0.274145,
          "end_time": "2023-03-11T08:19:02.690790",
          "exception": false,
          "start_time": "2023-03-11T08:19:02.416645",
          "status": "completed"
        },
        "tags": [],
        "id": "3cc8f2bf"
      },
      "outputs": [],
      "source": [
        "team_toppers(team = 'Canada')"
      ]
    },
    {
      "cell_type": "markdown",
      "id": "0d6d41f5",
      "metadata": {
        "papermill": {
          "duration": 0.022654,
          "end_time": "2023-03-11T08:19:02.736792",
          "exception": false,
          "start_time": "2023-03-11T08:19:02.714138",
          "status": "completed"
        },
        "tags": [],
        "id": "0d6d41f5"
      },
      "source": [
        "### Team Costa Rica <a class=\"anchor\" id=\"2.7\"></a>"
      ]
    },
    {
      "cell_type": "code",
      "execution_count": null,
      "id": "b8ef48d0",
      "metadata": {
        "execution": {
          "iopub.execute_input": "2023-03-11T08:19:02.783084Z",
          "iopub.status.busy": "2023-03-11T08:19:02.782643Z",
          "iopub.status.idle": "2023-03-11T08:19:03.197670Z",
          "shell.execute_reply": "2023-03-11T08:19:03.196516Z"
        },
        "papermill": {
          "duration": 0.441318,
          "end_time": "2023-03-11T08:19:03.200294",
          "exception": false,
          "start_time": "2023-03-11T08:19:02.758976",
          "status": "completed"
        },
        "tags": [],
        "id": "b8ef48d0"
      },
      "outputs": [],
      "source": [
        "team_toppers(team = 'Costa Rica')"
      ]
    },
    {
      "cell_type": "markdown",
      "id": "2e198760",
      "metadata": {
        "papermill": {
          "duration": 0.024805,
          "end_time": "2023-03-11T08:19:03.248538",
          "exception": false,
          "start_time": "2023-03-11T08:19:03.223733",
          "status": "completed"
        },
        "tags": [],
        "id": "2e198760"
      },
      "source": [
        "### Team Croatia <a class=\"anchor\" id=\"2.8\"></a>"
      ]
    },
    {
      "cell_type": "code",
      "execution_count": null,
      "id": "5a1189d9",
      "metadata": {
        "execution": {
          "iopub.execute_input": "2023-03-11T08:19:03.300076Z",
          "iopub.status.busy": "2023-03-11T08:19:03.299612Z",
          "iopub.status.idle": "2023-03-11T08:19:03.550027Z",
          "shell.execute_reply": "2023-03-11T08:19:03.548327Z"
        },
        "papermill": {
          "duration": 0.279695,
          "end_time": "2023-03-11T08:19:03.552612",
          "exception": false,
          "start_time": "2023-03-11T08:19:03.272917",
          "status": "completed"
        },
        "tags": [],
        "id": "5a1189d9"
      },
      "outputs": [],
      "source": [
        "team_toppers(team = 'Croatia')"
      ]
    },
    {
      "cell_type": "markdown",
      "id": "2db8709a",
      "metadata": {
        "papermill": {
          "duration": 0.025211,
          "end_time": "2023-03-11T08:19:03.604487",
          "exception": false,
          "start_time": "2023-03-11T08:19:03.579276",
          "status": "completed"
        },
        "tags": [],
        "id": "2db8709a"
      },
      "source": [
        "### Team Denmark <a class=\"anchor\" id=\"2.9\"></a>\n"
      ]
    },
    {
      "cell_type": "code",
      "execution_count": null,
      "id": "42becbba",
      "metadata": {
        "execution": {
          "iopub.execute_input": "2023-03-11T08:19:03.656542Z",
          "iopub.status.busy": "2023-03-11T08:19:03.655805Z",
          "iopub.status.idle": "2023-03-11T08:19:03.902083Z",
          "shell.execute_reply": "2023-03-11T08:19:03.900230Z"
        },
        "papermill": {
          "duration": 0.275313,
          "end_time": "2023-03-11T08:19:03.904797",
          "exception": false,
          "start_time": "2023-03-11T08:19:03.629484",
          "status": "completed"
        },
        "tags": [],
        "id": "42becbba"
      },
      "outputs": [],
      "source": [
        "team_toppers(team = 'Denmark')"
      ]
    },
    {
      "cell_type": "code",
      "execution_count": null,
      "id": "9cb2afb7",
      "metadata": {
        "execution": {
          "iopub.execute_input": "2023-03-11T08:19:04.010592Z",
          "iopub.status.busy": "2023-03-11T08:19:04.009387Z",
          "iopub.status.idle": "2023-03-11T08:19:04.254722Z",
          "shell.execute_reply": "2023-03-11T08:19:04.253415Z"
        },
        "papermill": {
          "duration": 0.275945,
          "end_time": "2023-03-11T08:19:04.257637",
          "exception": false,
          "start_time": "2023-03-11T08:19:03.981692",
          "status": "completed"
        },
        "tags": [],
        "id": "9cb2afb7"
      },
      "outputs": [],
      "source": [
        "team_toppers(team = 'Ecuador')"
      ]
    },
    {
      "cell_type": "markdown",
      "id": "89f6722c",
      "metadata": {
        "papermill": {
          "duration": 0.026059,
          "end_time": "2023-03-11T08:19:04.310572",
          "exception": false,
          "start_time": "2023-03-11T08:19:04.284513",
          "status": "completed"
        },
        "tags": [],
        "id": "89f6722c"
      },
      "source": [
        "### Team England <a class=\"anchor\" id=\"2.11\"></a>\n"
      ]
    },
    {
      "cell_type": "code",
      "execution_count": null,
      "id": "170fe53b",
      "metadata": {
        "execution": {
          "iopub.execute_input": "2023-03-11T08:19:04.366185Z",
          "iopub.status.busy": "2023-03-11T08:19:04.365749Z",
          "iopub.status.idle": "2023-03-11T08:19:04.618493Z",
          "shell.execute_reply": "2023-03-11T08:19:04.617221Z"
        },
        "papermill": {
          "duration": 0.28371,
          "end_time": "2023-03-11T08:19:04.621274",
          "exception": false,
          "start_time": "2023-03-11T08:19:04.337564",
          "status": "completed"
        },
        "tags": [],
        "id": "170fe53b"
      },
      "outputs": [],
      "source": [
        "team_toppers(team = 'England')"
      ]
    },
    {
      "cell_type": "markdown",
      "id": "602806c3",
      "metadata": {
        "papermill": {
          "duration": 0.028269,
          "end_time": "2023-03-11T08:19:04.679120",
          "exception": false,
          "start_time": "2023-03-11T08:19:04.650851",
          "status": "completed"
        },
        "tags": [],
        "id": "602806c3"
      },
      "source": [
        "### Team France <a class=\"anchor\" id=\"2.12\"></a>\n"
      ]
    },
    {
      "cell_type": "code",
      "execution_count": null,
      "id": "040e6f05",
      "metadata": {
        "execution": {
          "iopub.execute_input": "2023-03-11T08:19:04.736948Z",
          "iopub.status.busy": "2023-03-11T08:19:04.736550Z",
          "iopub.status.idle": "2023-03-11T08:19:05.013629Z",
          "shell.execute_reply": "2023-03-11T08:19:05.012086Z"
        },
        "papermill": {
          "duration": 0.310132,
          "end_time": "2023-03-11T08:19:05.017253",
          "exception": false,
          "start_time": "2023-03-11T08:19:04.707121",
          "status": "completed"
        },
        "tags": [],
        "id": "040e6f05"
      },
      "outputs": [],
      "source": [
        "team_toppers(team = 'France')"
      ]
    },
    {
      "cell_type": "markdown",
      "id": "1107e5b1",
      "metadata": {
        "papermill": {
          "duration": 0.028817,
          "end_time": "2023-03-11T08:19:05.075337",
          "exception": false,
          "start_time": "2023-03-11T08:19:05.046520",
          "status": "completed"
        },
        "tags": [],
        "id": "1107e5b1"
      },
      "source": [
        "### Team Germany <a class=\"anchor\" id=\"2.13\"></a>\n"
      ]
    },
    {
      "cell_type": "code",
      "execution_count": null,
      "id": "6ef8cea1",
      "metadata": {
        "execution": {
          "iopub.execute_input": "2023-03-11T08:19:05.147942Z",
          "iopub.status.busy": "2023-03-11T08:19:05.147334Z",
          "iopub.status.idle": "2023-03-11T08:19:05.406683Z",
          "shell.execute_reply": "2023-03-11T08:19:05.405021Z"
        },
        "papermill": {
          "duration": 0.300119,
          "end_time": "2023-03-11T08:19:05.409428",
          "exception": false,
          "start_time": "2023-03-11T08:19:05.109309",
          "status": "completed"
        },
        "tags": [],
        "id": "6ef8cea1"
      },
      "outputs": [],
      "source": [
        "team_toppers(team = 'Germany')"
      ]
    },
    {
      "cell_type": "markdown",
      "id": "2d4f1220",
      "metadata": {
        "papermill": {
          "duration": 0.030098,
          "end_time": "2023-03-11T08:19:05.471601",
          "exception": false,
          "start_time": "2023-03-11T08:19:05.441503",
          "status": "completed"
        },
        "tags": [],
        "id": "2d4f1220"
      },
      "source": [
        "### Team Ghana <a class=\"anchor\" id=\"2.14\"></a>\n",
        "\n",
        "<a href=\"#top\">Back to top</a>  "
      ]
    },
    {
      "cell_type": "code",
      "execution_count": null,
      "id": "547af94c",
      "metadata": {
        "execution": {
          "iopub.execute_input": "2023-03-11T08:19:05.537782Z",
          "iopub.status.busy": "2023-03-11T08:19:05.536501Z",
          "iopub.status.idle": "2023-03-11T08:19:05.790744Z",
          "shell.execute_reply": "2023-03-11T08:19:05.788650Z"
        },
        "papermill": {
          "duration": 0.290043,
          "end_time": "2023-03-11T08:19:05.793861",
          "exception": false,
          "start_time": "2023-03-11T08:19:05.503818",
          "status": "completed"
        },
        "tags": [],
        "id": "547af94c"
      },
      "outputs": [],
      "source": [
        "team_toppers(team = 'Ghana')"
      ]
    },
    {
      "cell_type": "markdown",
      "id": "977631ec",
      "metadata": {
        "papermill": {
          "duration": 0.033747,
          "end_time": "2023-03-11T08:19:05.861984",
          "exception": false,
          "start_time": "2023-03-11T08:19:05.828237",
          "status": "completed"
        },
        "tags": [],
        "id": "977631ec"
      },
      "source": [
        "### Team IR Iran <a class=\"anchor\" id=\"2.15\"></a>\n",
        "*IR> Islamic Republic of Iran"
      ]
    },
    {
      "cell_type": "code",
      "execution_count": null,
      "id": "4ec3cfd4",
      "metadata": {
        "execution": {
          "iopub.execute_input": "2023-03-11T08:19:05.931114Z",
          "iopub.status.busy": "2023-03-11T08:19:05.930139Z",
          "iopub.status.idle": "2023-03-11T08:19:06.196022Z",
          "shell.execute_reply": "2023-03-11T08:19:06.194057Z"
        },
        "papermill": {
          "duration": 0.303616,
          "end_time": "2023-03-11T08:19:06.199350",
          "exception": false,
          "start_time": "2023-03-11T08:19:05.895734",
          "status": "completed"
        },
        "tags": [],
        "id": "4ec3cfd4"
      },
      "outputs": [],
      "source": [
        "team_toppers(team = 'IR Iran')"
      ]
    },
    {
      "cell_type": "markdown",
      "id": "7548d351",
      "metadata": {
        "papermill": {
          "duration": 0.034084,
          "end_time": "2023-03-11T08:19:06.270209",
          "exception": false,
          "start_time": "2023-03-11T08:19:06.236125",
          "status": "completed"
        },
        "tags": [],
        "id": "7548d351"
      },
      "source": [
        "### Team Japan <a class=\"anchor\" id=\"2.16\"></a>\n",
        "\n"
      ]
    },
    {
      "cell_type": "code",
      "execution_count": null,
      "id": "8253ac1d",
      "metadata": {
        "execution": {
          "iopub.execute_input": "2023-03-11T08:19:06.343308Z",
          "iopub.status.busy": "2023-03-11T08:19:06.342853Z",
          "iopub.status.idle": "2023-03-11T08:19:06.606619Z",
          "shell.execute_reply": "2023-03-11T08:19:06.604791Z"
        },
        "papermill": {
          "duration": 0.303926,
          "end_time": "2023-03-11T08:19:06.609767",
          "exception": false,
          "start_time": "2023-03-11T08:19:06.305841",
          "status": "completed"
        },
        "tags": [],
        "id": "8253ac1d"
      },
      "outputs": [],
      "source": [
        "team_toppers(team = 'Japan')"
      ]
    },
    {
      "cell_type": "markdown",
      "id": "31f0b27f",
      "metadata": {
        "papermill": {
          "duration": 0.034041,
          "end_time": "2023-03-11T08:19:06.680631",
          "exception": false,
          "start_time": "2023-03-11T08:19:06.646590",
          "status": "completed"
        },
        "tags": [],
        "id": "31f0b27f"
      },
      "source": [
        "### Team Korea Republic <a class=\"anchor\" id=\"2.17\"></a>\n"
      ]
    },
    {
      "cell_type": "code",
      "execution_count": null,
      "id": "a2c33123",
      "metadata": {
        "execution": {
          "iopub.execute_input": "2023-03-11T08:19:06.753566Z",
          "iopub.status.busy": "2023-03-11T08:19:06.753117Z",
          "iopub.status.idle": "2023-03-11T08:19:07.011017Z",
          "shell.execute_reply": "2023-03-11T08:19:07.009245Z"
        },
        "papermill": {
          "duration": 0.297204,
          "end_time": "2023-03-11T08:19:07.013850",
          "exception": false,
          "start_time": "2023-03-11T08:19:06.716646",
          "status": "completed"
        },
        "tags": [],
        "id": "a2c33123"
      },
      "outputs": [],
      "source": [
        "team_toppers(team = 'Korea Republic')"
      ]
    },
    {
      "cell_type": "markdown",
      "id": "938ff979",
      "metadata": {
        "papermill": {
          "duration": 0.034578,
          "end_time": "2023-03-11T08:19:07.084655",
          "exception": false,
          "start_time": "2023-03-11T08:19:07.050077",
          "status": "completed"
        },
        "tags": [],
        "id": "938ff979"
      },
      "source": [
        "### Team Mexico <a class=\"anchor\" id=\"2.18\"></a>\n",
        "\n",
        "<a href=\"#top\">Back to top</a>  \n"
      ]
    },
    {
      "cell_type": "code",
      "execution_count": null,
      "id": "7c5553e6",
      "metadata": {
        "execution": {
          "iopub.execute_input": "2023-03-11T08:19:07.159656Z",
          "iopub.status.busy": "2023-03-11T08:19:07.158987Z",
          "iopub.status.idle": "2023-03-11T08:19:07.413518Z",
          "shell.execute_reply": "2023-03-11T08:19:07.411834Z"
        },
        "papermill": {
          "duration": 0.295447,
          "end_time": "2023-03-11T08:19:07.415940",
          "exception": false,
          "start_time": "2023-03-11T08:19:07.120493",
          "status": "completed"
        },
        "tags": [],
        "id": "7c5553e6"
      },
      "outputs": [],
      "source": [
        "team_toppers(team = 'Mexico')"
      ]
    },
    {
      "cell_type": "markdown",
      "id": "01936d61",
      "metadata": {
        "papermill": {
          "duration": 0.044596,
          "end_time": "2023-03-11T08:19:07.498300",
          "exception": false,
          "start_time": "2023-03-11T08:19:07.453704",
          "status": "completed"
        },
        "tags": [],
        "id": "01936d61"
      },
      "source": [
        "### Team Morocco <a class=\"anchor\" id=\"2.19\"></a>\n"
      ]
    },
    {
      "cell_type": "code",
      "execution_count": null,
      "id": "5aac4157",
      "metadata": {
        "execution": {
          "iopub.execute_input": "2023-03-11T08:19:07.577460Z",
          "iopub.status.busy": "2023-03-11T08:19:07.576203Z",
          "iopub.status.idle": "2023-03-11T08:19:07.840341Z",
          "shell.execute_reply": "2023-03-11T08:19:07.838284Z"
        },
        "papermill": {
          "duration": 0.306963,
          "end_time": "2023-03-11T08:19:07.843258",
          "exception": false,
          "start_time": "2023-03-11T08:19:07.536295",
          "status": "completed"
        },
        "tags": [],
        "id": "5aac4157"
      },
      "outputs": [],
      "source": [
        "team_toppers(team = 'Morocco')"
      ]
    },
    {
      "cell_type": "markdown",
      "id": "0b48ef08",
      "metadata": {
        "execution": {
          "iopub.execute_input": "2023-01-08T14:13:19.206534Z",
          "iopub.status.busy": "2023-01-08T14:13:19.206129Z",
          "iopub.status.idle": "2023-01-08T14:13:19.211255Z",
          "shell.execute_reply": "2023-01-08T14:13:19.209999Z",
          "shell.execute_reply.started": "2023-01-08T14:13:19.206505Z"
        },
        "papermill": {
          "duration": 0.037459,
          "end_time": "2023-03-11T08:19:07.919413",
          "exception": false,
          "start_time": "2023-03-11T08:19:07.881954",
          "status": "completed"
        },
        "tags": [],
        "id": "0b48ef08"
      },
      "source": [
        "### Team Netherlands <a class=\"anchor\" id=\"2.20\"></a>\n"
      ]
    },
    {
      "cell_type": "code",
      "execution_count": null,
      "id": "c9d45eba",
      "metadata": {
        "execution": {
          "iopub.execute_input": "2023-03-11T08:19:08.003226Z",
          "iopub.status.busy": "2023-03-11T08:19:08.002550Z",
          "iopub.status.idle": "2023-03-11T08:19:08.259552Z",
          "shell.execute_reply": "2023-03-11T08:19:08.257981Z"
        },
        "papermill": {
          "duration": 0.30308,
          "end_time": "2023-03-11T08:19:08.261949",
          "exception": false,
          "start_time": "2023-03-11T08:19:07.958869",
          "status": "completed"
        },
        "tags": [],
        "id": "c9d45eba"
      },
      "outputs": [],
      "source": [
        "team_toppers(team = 'Netherlands')"
      ]
    },
    {
      "cell_type": "markdown",
      "id": "bea56dd8",
      "metadata": {
        "papermill": {
          "duration": 0.038433,
          "end_time": "2023-03-11T08:19:08.342047",
          "exception": false,
          "start_time": "2023-03-11T08:19:08.303614",
          "status": "completed"
        },
        "tags": [],
        "id": "bea56dd8"
      },
      "source": [
        "### Team Poland <a class=\"anchor\" id=\"2.21\"></a>\n"
      ]
    },
    {
      "cell_type": "code",
      "execution_count": null,
      "id": "103a6f14",
      "metadata": {
        "execution": {
          "iopub.execute_input": "2023-03-11T08:19:08.427349Z",
          "iopub.status.busy": "2023-03-11T08:19:08.426476Z",
          "iopub.status.idle": "2023-03-11T08:19:08.681428Z",
          "shell.execute_reply": "2023-03-11T08:19:08.679732Z"
        },
        "papermill": {
          "duration": 0.301736,
          "end_time": "2023-03-11T08:19:08.684460",
          "exception": false,
          "start_time": "2023-03-11T08:19:08.382724",
          "status": "completed"
        },
        "tags": [],
        "id": "103a6f14"
      },
      "outputs": [],
      "source": [
        "team_toppers(team = 'Poland')"
      ]
    },
    {
      "cell_type": "markdown",
      "id": "fa7c0bbb",
      "metadata": {
        "papermill": {
          "duration": 0.039215,
          "end_time": "2023-03-11T08:19:08.764791",
          "exception": false,
          "start_time": "2023-03-11T08:19:08.725576",
          "status": "completed"
        },
        "tags": [],
        "id": "fa7c0bbb"
      },
      "source": [
        "### Team Portugal <a class=\"anchor\" id=\"2.22\"></a>\n",
        "\n",
        "<a href=\"#top\">Back to top</a>  "
      ]
    },
    {
      "cell_type": "code",
      "execution_count": null,
      "id": "a5bd91b6",
      "metadata": {
        "execution": {
          "iopub.execute_input": "2023-03-11T08:19:08.849398Z",
          "iopub.status.busy": "2023-03-11T08:19:08.848829Z",
          "iopub.status.idle": "2023-03-11T08:19:09.128485Z",
          "shell.execute_reply": "2023-03-11T08:19:09.126610Z"
        },
        "papermill": {
          "duration": 0.326293,
          "end_time": "2023-03-11T08:19:09.131856",
          "exception": false,
          "start_time": "2023-03-11T08:19:08.805563",
          "status": "completed"
        },
        "tags": [],
        "id": "a5bd91b6"
      },
      "outputs": [],
      "source": [
        "team_toppers(team = 'Portugal')"
      ]
    },
    {
      "cell_type": "markdown",
      "id": "c5b2cdbc",
      "metadata": {
        "papermill": {
          "duration": 0.042158,
          "end_time": "2023-03-11T08:19:09.218634",
          "exception": false,
          "start_time": "2023-03-11T08:19:09.176476",
          "status": "completed"
        },
        "tags": [],
        "id": "c5b2cdbc"
      },
      "source": [
        "### Team Qatar <a class=\"anchor\" id=\"2.23\"></a>\n"
      ]
    },
    {
      "cell_type": "code",
      "execution_count": null,
      "id": "5a9f87a1",
      "metadata": {
        "execution": {
          "iopub.execute_input": "2023-03-11T08:19:09.306330Z",
          "iopub.status.busy": "2023-03-11T08:19:09.305695Z",
          "iopub.status.idle": "2023-03-11T08:19:09.565592Z",
          "shell.execute_reply": "2023-03-11T08:19:09.563768Z"
        },
        "papermill": {
          "duration": 0.306434,
          "end_time": "2023-03-11T08:19:09.568301",
          "exception": false,
          "start_time": "2023-03-11T08:19:09.261867",
          "status": "completed"
        },
        "tags": [],
        "id": "5a9f87a1"
      },
      "outputs": [],
      "source": [
        "team_toppers(team = 'Qatar')"
      ]
    },
    {
      "cell_type": "markdown",
      "id": "1a509f20",
      "metadata": {
        "papermill": {
          "duration": 0.041987,
          "end_time": "2023-03-11T08:19:09.655164",
          "exception": false,
          "start_time": "2023-03-11T08:19:09.613177",
          "status": "completed"
        },
        "tags": [],
        "id": "1a509f20"
      },
      "source": [
        "### Team Saudi Arabia <a class=\"anchor\" id=\"2.24\"></a>"
      ]
    },
    {
      "cell_type": "code",
      "execution_count": null,
      "id": "cc09a8ff",
      "metadata": {
        "execution": {
          "iopub.execute_input": "2023-03-11T08:19:09.743967Z",
          "iopub.status.busy": "2023-03-11T08:19:09.743514Z",
          "iopub.status.idle": "2023-03-11T08:19:10.018782Z",
          "shell.execute_reply": "2023-03-11T08:19:10.017519Z"
        },
        "papermill": {
          "duration": 0.323074,
          "end_time": "2023-03-11T08:19:10.021519",
          "exception": false,
          "start_time": "2023-03-11T08:19:09.698445",
          "status": "completed"
        },
        "tags": [],
        "id": "cc09a8ff"
      },
      "outputs": [],
      "source": [
        "team_toppers(team = 'Saudi Arabia')"
      ]
    },
    {
      "cell_type": "markdown",
      "id": "c0c2020f",
      "metadata": {
        "papermill": {
          "duration": 0.044095,
          "end_time": "2023-03-11T08:19:10.110276",
          "exception": false,
          "start_time": "2023-03-11T08:19:10.066181",
          "status": "completed"
        },
        "tags": [],
        "id": "c0c2020f"
      },
      "source": [
        "### Team Senegal <a class=\"anchor\" id=\"2.25\"></a>\n"
      ]
    },
    {
      "cell_type": "code",
      "execution_count": null,
      "id": "f30c86c6",
      "metadata": {
        "execution": {
          "iopub.execute_input": "2023-03-11T08:19:10.205099Z",
          "iopub.status.busy": "2023-03-11T08:19:10.204400Z",
          "iopub.status.idle": "2023-03-11T08:19:10.453834Z",
          "shell.execute_reply": "2023-03-11T08:19:10.452423Z"
        },
        "papermill": {
          "duration": 0.299418,
          "end_time": "2023-03-11T08:19:10.456836",
          "exception": false,
          "start_time": "2023-03-11T08:19:10.157418",
          "status": "completed"
        },
        "tags": [],
        "id": "f30c86c6"
      },
      "outputs": [],
      "source": [
        "team_toppers(team = 'Senegal')"
      ]
    },
    {
      "cell_type": "markdown",
      "id": "0c6d9caf",
      "metadata": {
        "papermill": {
          "duration": 0.043761,
          "end_time": "2023-03-11T08:19:10.548520",
          "exception": false,
          "start_time": "2023-03-11T08:19:10.504759",
          "status": "completed"
        },
        "tags": [],
        "id": "0c6d9caf"
      },
      "source": [
        "### Team Serbia <a class=\"anchor\" id=\"2.26\"></a>\n",
        "<a href=\"#top\">Back to top</a>  "
      ]
    },
    {
      "cell_type": "code",
      "execution_count": null,
      "id": "816ee499",
      "metadata": {
        "execution": {
          "iopub.execute_input": "2023-03-11T08:19:10.642135Z",
          "iopub.status.busy": "2023-03-11T08:19:10.640921Z",
          "iopub.status.idle": "2023-03-11T08:19:10.902661Z",
          "shell.execute_reply": "2023-03-11T08:19:10.901187Z"
        },
        "papermill": {
          "duration": 0.311226,
          "end_time": "2023-03-11T08:19:10.905349",
          "exception": false,
          "start_time": "2023-03-11T08:19:10.594123",
          "status": "completed"
        },
        "tags": [],
        "id": "816ee499"
      },
      "outputs": [],
      "source": [
        "team_toppers(team = 'Serbia')"
      ]
    },
    {
      "cell_type": "markdown",
      "id": "a0b2060c",
      "metadata": {
        "papermill": {
          "duration": 0.045907,
          "end_time": "2023-03-11T08:19:10.998835",
          "exception": false,
          "start_time": "2023-03-11T08:19:10.952928",
          "status": "completed"
        },
        "tags": [],
        "id": "a0b2060c"
      },
      "source": [
        "### Team Spain <a class=\"anchor\" id=\"2.27\"></a>\n"
      ]
    },
    {
      "cell_type": "code",
      "execution_count": null,
      "id": "e0ab7b22",
      "metadata": {
        "execution": {
          "iopub.execute_input": "2023-03-11T08:19:11.095282Z",
          "iopub.status.busy": "2023-03-11T08:19:11.094863Z",
          "iopub.status.idle": "2023-03-11T08:19:11.346899Z",
          "shell.execute_reply": "2023-03-11T08:19:11.345445Z"
        },
        "papermill": {
          "duration": 0.303971,
          "end_time": "2023-03-11T08:19:11.350010",
          "exception": false,
          "start_time": "2023-03-11T08:19:11.046039",
          "status": "completed"
        },
        "tags": [],
        "id": "e0ab7b22"
      },
      "outputs": [],
      "source": [
        "team_toppers(team = 'Spain')"
      ]
    },
    {
      "cell_type": "markdown",
      "id": "b2670506",
      "metadata": {
        "papermill": {
          "duration": 0.047412,
          "end_time": "2023-03-11T08:19:11.446729",
          "exception": false,
          "start_time": "2023-03-11T08:19:11.399317",
          "status": "completed"
        },
        "tags": [],
        "id": "b2670506"
      },
      "source": [
        "### Team Switzerland <a class=\"anchor\" id=\"2.28\"></a>\n"
      ]
    },
    {
      "cell_type": "code",
      "execution_count": null,
      "id": "146a630d",
      "metadata": {
        "execution": {
          "iopub.execute_input": "2023-03-11T08:19:11.547224Z",
          "iopub.status.busy": "2023-03-11T08:19:11.545655Z",
          "iopub.status.idle": "2023-03-11T08:19:11.817478Z",
          "shell.execute_reply": "2023-03-11T08:19:11.816049Z"
        },
        "papermill": {
          "duration": 0.325167,
          "end_time": "2023-03-11T08:19:11.820174",
          "exception": false,
          "start_time": "2023-03-11T08:19:11.495007",
          "status": "completed"
        },
        "tags": [],
        "id": "146a630d"
      },
      "outputs": [],
      "source": [
        "team_toppers(team = 'Switzerland')"
      ]
    },
    {
      "cell_type": "markdown",
      "id": "d9ade566",
      "metadata": {
        "papermill": {
          "duration": 0.049204,
          "end_time": "2023-03-11T08:19:11.920560",
          "exception": false,
          "start_time": "2023-03-11T08:19:11.871356",
          "status": "completed"
        },
        "tags": [],
        "id": "d9ade566"
      },
      "source": [
        "### Team Tunisia <a class=\"anchor\" id=\"2.29\"></a>\n"
      ]
    },
    {
      "cell_type": "code",
      "execution_count": null,
      "id": "67995611",
      "metadata": {
        "execution": {
          "iopub.execute_input": "2023-03-11T08:19:12.021864Z",
          "iopub.status.busy": "2023-03-11T08:19:12.021446Z",
          "iopub.status.idle": "2023-03-11T08:19:12.286998Z",
          "shell.execute_reply": "2023-03-11T08:19:12.285672Z"
        },
        "papermill": {
          "duration": 0.319565,
          "end_time": "2023-03-11T08:19:12.289793",
          "exception": false,
          "start_time": "2023-03-11T08:19:11.970228",
          "status": "completed"
        },
        "tags": [],
        "id": "67995611"
      },
      "outputs": [],
      "source": [
        "team_toppers(team = 'Tunisia')"
      ]
    },
    {
      "cell_type": "markdown",
      "id": "cb2f73f5",
      "metadata": {
        "papermill": {
          "duration": 0.049165,
          "end_time": "2023-03-11T08:19:12.390603",
          "exception": false,
          "start_time": "2023-03-11T08:19:12.341438",
          "status": "completed"
        },
        "tags": [],
        "id": "cb2f73f5"
      },
      "source": [
        "### Team United States <a class=\"anchor\" id=\"2.30\"></a>\n",
        "<a href=\"#top\">Back to top</a>  "
      ]
    },
    {
      "cell_type": "code",
      "execution_count": null,
      "id": "a2968516",
      "metadata": {
        "execution": {
          "iopub.execute_input": "2023-03-11T08:19:12.496025Z",
          "iopub.status.busy": "2023-03-11T08:19:12.495478Z",
          "iopub.status.idle": "2023-03-11T08:19:12.762837Z",
          "shell.execute_reply": "2023-03-11T08:19:12.761435Z"
        },
        "papermill": {
          "duration": 0.324478,
          "end_time": "2023-03-11T08:19:12.766092",
          "exception": false,
          "start_time": "2023-03-11T08:19:12.441614",
          "status": "completed"
        },
        "tags": [],
        "id": "a2968516"
      },
      "outputs": [],
      "source": [
        "team_toppers(team = 'United States')"
      ]
    },
    {
      "cell_type": "markdown",
      "id": "90ef03fd",
      "metadata": {
        "papermill": {
          "duration": 0.051607,
          "end_time": "2023-03-11T08:19:12.870394",
          "exception": false,
          "start_time": "2023-03-11T08:19:12.818787",
          "status": "completed"
        },
        "tags": [],
        "id": "90ef03fd"
      },
      "source": [
        "### Team Uruguay <a class=\"anchor\" id=\"2.31\"></a>\n"
      ]
    },
    {
      "cell_type": "code",
      "execution_count": null,
      "id": "1312a6df",
      "metadata": {
        "execution": {
          "iopub.execute_input": "2023-03-11T08:19:12.980151Z",
          "iopub.status.busy": "2023-03-11T08:19:12.979690Z",
          "iopub.status.idle": "2023-03-11T08:19:13.234689Z",
          "shell.execute_reply": "2023-03-11T08:19:13.233262Z"
        },
        "papermill": {
          "duration": 0.312487,
          "end_time": "2023-03-11T08:19:13.237758",
          "exception": false,
          "start_time": "2023-03-11T08:19:12.925271",
          "status": "completed"
        },
        "tags": [],
        "id": "1312a6df"
      },
      "outputs": [],
      "source": [
        "team_toppers(team = 'Uruguay')"
      ]
    },
    {
      "cell_type": "markdown",
      "id": "31bc9627",
      "metadata": {
        "papermill": {
          "duration": 0.050424,
          "end_time": "2023-03-11T08:19:13.342527",
          "exception": false,
          "start_time": "2023-03-11T08:19:13.292103",
          "status": "completed"
        },
        "tags": [],
        "id": "31bc9627"
      },
      "source": [
        "### Team Wales <a class=\"anchor\" id=\"2.32\"></a>\n"
      ]
    },
    {
      "cell_type": "code",
      "execution_count": null,
      "id": "caf73016",
      "metadata": {
        "execution": {
          "iopub.execute_input": "2023-03-11T08:19:13.449732Z",
          "iopub.status.busy": "2023-03-11T08:19:13.449280Z",
          "iopub.status.idle": "2023-03-11T08:19:13.686543Z",
          "shell.execute_reply": "2023-03-11T08:19:13.685127Z"
        },
        "papermill": {
          "duration": 0.294894,
          "end_time": "2023-03-11T08:19:13.689082",
          "exception": false,
          "start_time": "2023-03-11T08:19:13.394188",
          "status": "completed"
        },
        "tags": [],
        "id": "caf73016"
      },
      "outputs": [],
      "source": [
        "team_toppers(team = 'Wales')"
      ]
    },
    {
      "cell_type": "code",
      "execution_count": null,
      "id": "2376a39c",
      "metadata": {
        "_kg_hide-input": true,
        "execution": {
          "iopub.execute_input": "2023-03-11T08:19:13.922644Z",
          "iopub.status.busy": "2023-03-11T08:19:13.921282Z",
          "iopub.status.idle": "2023-03-11T08:19:14.308340Z",
          "shell.execute_reply": "2023-03-11T08:19:14.306830Z"
        },
        "papermill": {
          "duration": 0.459527,
          "end_time": "2023-03-11T08:19:14.311278",
          "exception": false,
          "start_time": "2023-03-11T08:19:13.851751",
          "status": "completed"
        },
        "tags": [],
        "id": "2376a39c"
      },
      "outputs": [],
      "source": [
        "\n",
        "\n",
        "df_total['age_year'] = df_total['age'].str.split('-', expand=True).astype(int)[0]\n",
        "df_total['age_plusdays'] = (df_total['age'].str.split('-', expand=True).astype(int)[1])\n",
        "df_total['age_decimal'] = np.round(df_total['age_year'] + (df_total['age_plusdays']/365), 2)\n",
        "df_total.drop(['age_year', 'age_plusdays'], axis=1, inplace=True)\n",
        "\n",
        "stars_dataFrame = []\n",
        "\n",
        "for team in teams:\n",
        "\n",
        "    df = df_total[df_total['team']== team]\n",
        "\n",
        "    name = (df.loc[df['total_points'] == df['total_points'].max()]['player']).to_string(index=False)\n",
        "    age = (df.loc[df['total_points'] == df['total_points'].max()]['age_decimal']).to_string(index=False)\n",
        "    position = (df.loc[df['total_points'] == df['total_points'].max()]['position']).to_string(index=False)\n",
        "    club = (df.loc[df['total_points'] == df['total_points'].max()]['club']).to_string(index=False)\n",
        "    total_pts = np.round(df['total_points'].max(),2)\n",
        "\n",
        "    dict_0 = {\n",
        "        'name':name,\n",
        "        'age':age,\n",
        "        'position':position,\n",
        "        'club':club,\n",
        "        'points':total_pts\n",
        "    }\n",
        "    stars_dataFrame.append(dict_0)\n",
        "df_stars = pd.DataFrame(stars_dataFrame, index=None)\n",
        "df_stars['age'] = pd.to_numeric(df_stars['age'],errors='coerce')\n",
        "\n",
        "\n",
        "\n",
        "fig = px.bar(df_stars.groupby(by=[\"position\"]).size().reset_index(name=\"counts\"),\n",
        "             x=\"position\", y=\"counts\",\n",
        "             color='position',\n",
        "             width=750,\n",
        "             height=500,\n",
        "             )\n",
        "\n",
        "fig.update_layout(\n",
        "             template='simple_white',showlegend=True,\n",
        "             title=\"<b> Playing Position Of Star Players <b>\",\n",
        "             titlefont={'size':24, 'family': 'San-serif'},\n",
        ")\n",
        "\n",
        "fig.show()\n",
        "\n",
        "fig = px.bar(df_stars.groupby(by=[\"club\"]).size().reset_index(name=\"counts\").sort_values('counts', ascending = True),\n",
        "             y=\"club\", x=\"counts\",\n",
        "             #color='position',\n",
        "             width=750,\n",
        "             height=600,\n",
        "             )\n",
        "fig.update_layout(\n",
        "             template='simple_white',\n",
        "             title=\"<b> Clubs Of Star Players <b>\",\n",
        "             titlefont={'size':24, 'family': 'San-serif'},\n",
        ")\n",
        "fig.update_traces(marker_color='#add8e6', marker_line_color='#9bc2cf',\n",
        "                  marker_line_width=2.5, opacity=None)\n",
        "\n",
        "fig.show()"
      ]
    },
    {
      "cell_type": "code",
      "execution_count": null,
      "id": "42f48233",
      "metadata": {
        "execution": {
          "iopub.execute_input": "2023-03-11T08:19:14.423394Z",
          "iopub.status.busy": "2023-03-11T08:19:14.422637Z",
          "iopub.status.idle": "2023-03-11T08:19:14.438642Z",
          "shell.execute_reply": "2023-03-11T08:19:14.437272Z"
        },
        "papermill": {
          "duration": 0.073638,
          "end_time": "2023-03-11T08:19:14.441133",
          "exception": false,
          "start_time": "2023-03-11T08:19:14.367495",
          "status": "completed"
        },
        "tags": [],
        "id": "42f48233",
        "outputId": "9124a99c-cd98-4e28-fab3-c603babec4ea"
      },
      "outputs": [
        {
          "data": {
            "text/plain": [
              "count    32.000000\n",
              "mean     28.386563\n",
              "std       4.083063\n",
              "min      19.470000\n",
              "25%      25.457500\n",
              "50%      28.795000\n",
              "75%      30.825000\n",
              "max      37.270000\n",
              "Name: age, dtype: float64"
            ]
          },
          "execution_count": 37,
          "metadata": {},
          "output_type": "execute_result"
        }
      ],
      "source": [
        "df_stars.age.describe()"
      ]
    },
    {
      "cell_type": "code",
      "execution_count": null,
      "id": "17e7aa9a",
      "metadata": {
        "_kg_hide-input": true,
        "execution": {
          "iopub.execute_input": "2023-03-11T08:19:14.554763Z",
          "iopub.status.busy": "2023-03-11T08:19:14.553756Z",
          "iopub.status.idle": "2023-03-11T08:19:14.683053Z",
          "shell.execute_reply": "2023-03-11T08:19:14.681667Z"
        },
        "papermill": {
          "duration": 0.187113,
          "end_time": "2023-03-11T08:19:14.685984",
          "exception": false,
          "start_time": "2023-03-11T08:19:14.498871",
          "status": "completed"
        },
        "tags": [],
        "id": "17e7aa9a"
      },
      "outputs": [],
      "source": [
        "fig = px.histogram(df_stars,\n",
        "                   x=\"age\",\n",
        "                   width=750,\n",
        "                   height=500,\n",
        "                   nbins=12)\n",
        "fig.update_layout(\n",
        "             template='simple_white',\n",
        "             title=\"<b> Age Distribution of Star Players<b>\",\n",
        "             titlefont={'size':24, 'family': 'San-serif'},\n",
        ")\n",
        "fig.update_traces(marker_color='#add8e6', marker_line_color='#9bc2cf',\n",
        "                  marker_line_width=2.5, opacity=None)\n",
        "fig.show()"
      ]
    },
    {
      "cell_type": "markdown",
      "id": "5c6aacd8",
      "metadata": {
        "execution": {
          "iopub.execute_input": "2023-01-08T21:07:11.733326Z",
          "iopub.status.busy": "2023-01-08T21:07:11.732977Z",
          "iopub.status.idle": "2023-01-08T21:07:11.737555Z",
          "shell.execute_reply": "2023-01-08T21:07:11.736377Z",
          "shell.execute_reply.started": "2023-01-08T21:07:11.733298Z"
        },
        "papermill": {
          "duration": 0.059417,
          "end_time": "2023-03-11T08:19:15.141047",
          "exception": false,
          "start_time": "2023-03-11T08:19:15.081630",
          "status": "completed"
        },
        "tags": [],
        "id": "5c6aacd8"
      },
      "source": [
        "<!-- # teams = ['Argentina','Australia','Belgium','Brazil','Cameroon','Canada','Costa Rica','Croatia',\n",
        "# 'Denmark','Ecuador','England', 'France','Germany','Ghana','IR Iran','Japan',\n",
        "# 'Korea Republic','Mexico','Morocco','Netherlands','Poland','Portugal','Qatar','Saudi Arabia',\n",
        "# 'Senegal','Serbia','Spain','Switzerland','Tunisia','United States','Uruguay','Wales']\n",
        "\n",
        "# for team in teams:\n",
        "#     team_toppers(team = team) -->"
      ]
    }
  ],
  "metadata": {
    "kernelspec": {
      "display_name": "Python 3",
      "language": "python",
      "name": "python3"
    },
    "language_info": {
      "codemirror_mode": {
        "name": "ipython",
        "version": 3
      },
      "file_extension": ".py",
      "mimetype": "text/x-python",
      "name": "python",
      "nbconvert_exporter": "python",
      "pygments_lexer": "ipython3",
      "version": "3.7.12"
    },
    "papermill": {
      "default_parameters": {},
      "duration": 29.811275,
      "end_time": "2023-03-11T08:19:16.234685",
      "environment_variables": {},
      "exception": null,
      "input_path": "__notebook__.ipynb",
      "output_path": "__notebook__.ipynb",
      "parameters": {},
      "start_time": "2023-03-11T08:18:46.423410",
      "version": "2.3.4"
    },
    "colab": {
      "provenance": []
    }
  },
  "nbformat": 4,
  "nbformat_minor": 5
}